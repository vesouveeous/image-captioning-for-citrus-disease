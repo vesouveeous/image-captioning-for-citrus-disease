{
  "nbformat": 4,
  "nbformat_minor": 0,
  "metadata": {
    "colab": {
      "provenance": [],
      "gpuType": "T4"
    },
    "kernelspec": {
      "name": "python3",
      "display_name": "Python 3"
    },
    "language_info": {
      "name": "python"
    },
    "accelerator": "GPU",
    "widgets": {
      "application/vnd.jupyter.widget-state+json": {
        "c8235e0eb0384b63a0351539a94195d4": {
          "model_module": "@jupyter-widgets/controls",
          "model_name": "HBoxModel",
          "model_module_version": "1.5.0",
          "state": {
            "_dom_classes": [],
            "_model_module": "@jupyter-widgets/controls",
            "_model_module_version": "1.5.0",
            "_model_name": "HBoxModel",
            "_view_count": null,
            "_view_module": "@jupyter-widgets/controls",
            "_view_module_version": "1.5.0",
            "_view_name": "HBoxView",
            "box_style": "",
            "children": [
              "IPY_MODEL_0a514cf7a01b4b7e866b7330ef6c3d79",
              "IPY_MODEL_1fb9e3ea214e4b77a1cb6d0a0e4f3579",
              "IPY_MODEL_8c016c7ce5004804bb7e2a70f4cbe984"
            ],
            "layout": "IPY_MODEL_3be2686a12374e68a479cd02f409665d"
          }
        },
        "0a514cf7a01b4b7e866b7330ef6c3d79": {
          "model_module": "@jupyter-widgets/controls",
          "model_name": "HTMLModel",
          "model_module_version": "1.5.0",
          "state": {
            "_dom_classes": [],
            "_model_module": "@jupyter-widgets/controls",
            "_model_module_version": "1.5.0",
            "_model_name": "HTMLModel",
            "_view_count": null,
            "_view_module": "@jupyter-widgets/controls",
            "_view_module_version": "1.5.0",
            "_view_name": "HTMLView",
            "description": "",
            "description_tooltip": null,
            "layout": "IPY_MODEL_c8ba2cd01f514f10ae5615ee929aad9d",
            "placeholder": "​",
            "style": "IPY_MODEL_0eb9c4766a0d4d1ea01660a8f6f5f88b",
            "value": "config.json: 100%"
          }
        },
        "1fb9e3ea214e4b77a1cb6d0a0e4f3579": {
          "model_module": "@jupyter-widgets/controls",
          "model_name": "FloatProgressModel",
          "model_module_version": "1.5.0",
          "state": {
            "_dom_classes": [],
            "_model_module": "@jupyter-widgets/controls",
            "_model_module_version": "1.5.0",
            "_model_name": "FloatProgressModel",
            "_view_count": null,
            "_view_module": "@jupyter-widgets/controls",
            "_view_module_version": "1.5.0",
            "_view_name": "ProgressView",
            "bar_style": "success",
            "description": "",
            "description_tooltip": null,
            "layout": "IPY_MODEL_2452f51c3dd44307bfd71d2839d2842f",
            "max": 156,
            "min": 0,
            "orientation": "horizontal",
            "style": "IPY_MODEL_9592b4a65b9e4439a05acf471e319743",
            "value": 156
          }
        },
        "8c016c7ce5004804bb7e2a70f4cbe984": {
          "model_module": "@jupyter-widgets/controls",
          "model_name": "HTMLModel",
          "model_module_version": "1.5.0",
          "state": {
            "_dom_classes": [],
            "_model_module": "@jupyter-widgets/controls",
            "_model_module_version": "1.5.0",
            "_model_name": "HTMLModel",
            "_view_count": null,
            "_view_module": "@jupyter-widgets/controls",
            "_view_module_version": "1.5.0",
            "_view_name": "HTMLView",
            "description": "",
            "description_tooltip": null,
            "layout": "IPY_MODEL_bbc449b05c0a4e098c44613c35b15f80",
            "placeholder": "​",
            "style": "IPY_MODEL_18e0febf0d2149aab5627f28c3e97121",
            "value": " 156/156 [00:00&lt;00:00, 7.16kB/s]"
          }
        },
        "3be2686a12374e68a479cd02f409665d": {
          "model_module": "@jupyter-widgets/base",
          "model_name": "LayoutModel",
          "model_module_version": "1.2.0",
          "state": {
            "_model_module": "@jupyter-widgets/base",
            "_model_module_version": "1.2.0",
            "_model_name": "LayoutModel",
            "_view_count": null,
            "_view_module": "@jupyter-widgets/base",
            "_view_module_version": "1.2.0",
            "_view_name": "LayoutView",
            "align_content": null,
            "align_items": null,
            "align_self": null,
            "border": null,
            "bottom": null,
            "display": null,
            "flex": null,
            "flex_flow": null,
            "grid_area": null,
            "grid_auto_columns": null,
            "grid_auto_flow": null,
            "grid_auto_rows": null,
            "grid_column": null,
            "grid_gap": null,
            "grid_row": null,
            "grid_template_areas": null,
            "grid_template_columns": null,
            "grid_template_rows": null,
            "height": null,
            "justify_content": null,
            "justify_items": null,
            "left": null,
            "margin": null,
            "max_height": null,
            "max_width": null,
            "min_height": null,
            "min_width": null,
            "object_fit": null,
            "object_position": null,
            "order": null,
            "overflow": null,
            "overflow_x": null,
            "overflow_y": null,
            "padding": null,
            "right": null,
            "top": null,
            "visibility": null,
            "width": null
          }
        },
        "c8ba2cd01f514f10ae5615ee929aad9d": {
          "model_module": "@jupyter-widgets/base",
          "model_name": "LayoutModel",
          "model_module_version": "1.2.0",
          "state": {
            "_model_module": "@jupyter-widgets/base",
            "_model_module_version": "1.2.0",
            "_model_name": "LayoutModel",
            "_view_count": null,
            "_view_module": "@jupyter-widgets/base",
            "_view_module_version": "1.2.0",
            "_view_name": "LayoutView",
            "align_content": null,
            "align_items": null,
            "align_self": null,
            "border": null,
            "bottom": null,
            "display": null,
            "flex": null,
            "flex_flow": null,
            "grid_area": null,
            "grid_auto_columns": null,
            "grid_auto_flow": null,
            "grid_auto_rows": null,
            "grid_column": null,
            "grid_gap": null,
            "grid_row": null,
            "grid_template_areas": null,
            "grid_template_columns": null,
            "grid_template_rows": null,
            "height": null,
            "justify_content": null,
            "justify_items": null,
            "left": null,
            "margin": null,
            "max_height": null,
            "max_width": null,
            "min_height": null,
            "min_width": null,
            "object_fit": null,
            "object_position": null,
            "order": null,
            "overflow": null,
            "overflow_x": null,
            "overflow_y": null,
            "padding": null,
            "right": null,
            "top": null,
            "visibility": null,
            "width": null
          }
        },
        "0eb9c4766a0d4d1ea01660a8f6f5f88b": {
          "model_module": "@jupyter-widgets/controls",
          "model_name": "DescriptionStyleModel",
          "model_module_version": "1.5.0",
          "state": {
            "_model_module": "@jupyter-widgets/controls",
            "_model_module_version": "1.5.0",
            "_model_name": "DescriptionStyleModel",
            "_view_count": null,
            "_view_module": "@jupyter-widgets/base",
            "_view_module_version": "1.2.0",
            "_view_name": "StyleView",
            "description_width": ""
          }
        },
        "2452f51c3dd44307bfd71d2839d2842f": {
          "model_module": "@jupyter-widgets/base",
          "model_name": "LayoutModel",
          "model_module_version": "1.2.0",
          "state": {
            "_model_module": "@jupyter-widgets/base",
            "_model_module_version": "1.2.0",
            "_model_name": "LayoutModel",
            "_view_count": null,
            "_view_module": "@jupyter-widgets/base",
            "_view_module_version": "1.2.0",
            "_view_name": "LayoutView",
            "align_content": null,
            "align_items": null,
            "align_self": null,
            "border": null,
            "bottom": null,
            "display": null,
            "flex": null,
            "flex_flow": null,
            "grid_area": null,
            "grid_auto_columns": null,
            "grid_auto_flow": null,
            "grid_auto_rows": null,
            "grid_column": null,
            "grid_gap": null,
            "grid_row": null,
            "grid_template_areas": null,
            "grid_template_columns": null,
            "grid_template_rows": null,
            "height": null,
            "justify_content": null,
            "justify_items": null,
            "left": null,
            "margin": null,
            "max_height": null,
            "max_width": null,
            "min_height": null,
            "min_width": null,
            "object_fit": null,
            "object_position": null,
            "order": null,
            "overflow": null,
            "overflow_x": null,
            "overflow_y": null,
            "padding": null,
            "right": null,
            "top": null,
            "visibility": null,
            "width": null
          }
        },
        "9592b4a65b9e4439a05acf471e319743": {
          "model_module": "@jupyter-widgets/controls",
          "model_name": "ProgressStyleModel",
          "model_module_version": "1.5.0",
          "state": {
            "_model_module": "@jupyter-widgets/controls",
            "_model_module_version": "1.5.0",
            "_model_name": "ProgressStyleModel",
            "_view_count": null,
            "_view_module": "@jupyter-widgets/base",
            "_view_module_version": "1.2.0",
            "_view_name": "StyleView",
            "bar_color": null,
            "description_width": ""
          }
        },
        "bbc449b05c0a4e098c44613c35b15f80": {
          "model_module": "@jupyter-widgets/base",
          "model_name": "LayoutModel",
          "model_module_version": "1.2.0",
          "state": {
            "_model_module": "@jupyter-widgets/base",
            "_model_module_version": "1.2.0",
            "_model_name": "LayoutModel",
            "_view_count": null,
            "_view_module": "@jupyter-widgets/base",
            "_view_module_version": "1.2.0",
            "_view_name": "LayoutView",
            "align_content": null,
            "align_items": null,
            "align_self": null,
            "border": null,
            "bottom": null,
            "display": null,
            "flex": null,
            "flex_flow": null,
            "grid_area": null,
            "grid_auto_columns": null,
            "grid_auto_flow": null,
            "grid_auto_rows": null,
            "grid_column": null,
            "grid_gap": null,
            "grid_row": null,
            "grid_template_areas": null,
            "grid_template_columns": null,
            "grid_template_rows": null,
            "height": null,
            "justify_content": null,
            "justify_items": null,
            "left": null,
            "margin": null,
            "max_height": null,
            "max_width": null,
            "min_height": null,
            "min_width": null,
            "object_fit": null,
            "object_position": null,
            "order": null,
            "overflow": null,
            "overflow_x": null,
            "overflow_y": null,
            "padding": null,
            "right": null,
            "top": null,
            "visibility": null,
            "width": null
          }
        },
        "18e0febf0d2149aab5627f28c3e97121": {
          "model_module": "@jupyter-widgets/controls",
          "model_name": "DescriptionStyleModel",
          "model_module_version": "1.5.0",
          "state": {
            "_model_module": "@jupyter-widgets/controls",
            "_model_module_version": "1.5.0",
            "_model_name": "DescriptionStyleModel",
            "_view_count": null,
            "_view_module": "@jupyter-widgets/base",
            "_view_module_version": "1.2.0",
            "_view_name": "StyleView",
            "description_width": ""
          }
        },
        "0eb99ad35e5a47c89af29a95a9973e0a": {
          "model_module": "@jupyter-widgets/controls",
          "model_name": "HBoxModel",
          "model_module_version": "1.5.0",
          "state": {
            "_dom_classes": [],
            "_model_module": "@jupyter-widgets/controls",
            "_model_module_version": "1.5.0",
            "_model_name": "HBoxModel",
            "_view_count": null,
            "_view_module": "@jupyter-widgets/controls",
            "_view_module_version": "1.5.0",
            "_view_name": "HBoxView",
            "box_style": "",
            "children": [
              "IPY_MODEL_4c0fe28610fd45859b421cdfa89b7328",
              "IPY_MODEL_32230a192ca34998aab255780e04a399",
              "IPY_MODEL_4791fa69d9bf4e9c90074018e331ffdb"
            ],
            "layout": "IPY_MODEL_1367d1a59d92420086dfc6a3eb0d872b"
          }
        },
        "4c0fe28610fd45859b421cdfa89b7328": {
          "model_module": "@jupyter-widgets/controls",
          "model_name": "HTMLModel",
          "model_module_version": "1.5.0",
          "state": {
            "_dom_classes": [],
            "_model_module": "@jupyter-widgets/controls",
            "_model_module_version": "1.5.0",
            "_model_name": "HTMLModel",
            "_view_count": null,
            "_view_module": "@jupyter-widgets/controls",
            "_view_module_version": "1.5.0",
            "_view_name": "HTMLView",
            "description": "",
            "description_tooltip": null,
            "layout": "IPY_MODEL_ff12aa4f5a514ab78ef4ad278aabb4a3",
            "placeholder": "​",
            "style": "IPY_MODEL_8e2b79a92d0e48679601294d33393072",
            "value": "model.safetensors: 100%"
          }
        },
        "32230a192ca34998aab255780e04a399": {
          "model_module": "@jupyter-widgets/controls",
          "model_name": "FloatProgressModel",
          "model_module_version": "1.5.0",
          "state": {
            "_dom_classes": [],
            "_model_module": "@jupyter-widgets/controls",
            "_model_module_version": "1.5.0",
            "_model_name": "FloatProgressModel",
            "_view_count": null,
            "_view_module": "@jupyter-widgets/controls",
            "_view_module_version": "1.5.0",
            "_view_name": "ProgressView",
            "bar_style": "success",
            "description": "",
            "description_tooltip": null,
            "layout": "IPY_MODEL_d11374e3e7214b51a86b4f74b0b171d5",
            "max": 553505328,
            "min": 0,
            "orientation": "horizontal",
            "style": "IPY_MODEL_9a447adcd1364f4eb32383885b513382",
            "value": 553505328
          }
        },
        "4791fa69d9bf4e9c90074018e331ffdb": {
          "model_module": "@jupyter-widgets/controls",
          "model_name": "HTMLModel",
          "model_module_version": "1.5.0",
          "state": {
            "_dom_classes": [],
            "_model_module": "@jupyter-widgets/controls",
            "_model_module_version": "1.5.0",
            "_model_name": "HTMLModel",
            "_view_count": null,
            "_view_module": "@jupyter-widgets/controls",
            "_view_module_version": "1.5.0",
            "_view_name": "HTMLView",
            "description": "",
            "description_tooltip": null,
            "layout": "IPY_MODEL_aa720d81d9b045b1a5221c334b099536",
            "placeholder": "​",
            "style": "IPY_MODEL_b9fa07ca92eb4142abf9aa68803f8f90",
            "value": " 554M/554M [00:06&lt;00:00, 84.1MB/s]"
          }
        },
        "1367d1a59d92420086dfc6a3eb0d872b": {
          "model_module": "@jupyter-widgets/base",
          "model_name": "LayoutModel",
          "model_module_version": "1.2.0",
          "state": {
            "_model_module": "@jupyter-widgets/base",
            "_model_module_version": "1.2.0",
            "_model_name": "LayoutModel",
            "_view_count": null,
            "_view_module": "@jupyter-widgets/base",
            "_view_module_version": "1.2.0",
            "_view_name": "LayoutView",
            "align_content": null,
            "align_items": null,
            "align_self": null,
            "border": null,
            "bottom": null,
            "display": null,
            "flex": null,
            "flex_flow": null,
            "grid_area": null,
            "grid_auto_columns": null,
            "grid_auto_flow": null,
            "grid_auto_rows": null,
            "grid_column": null,
            "grid_gap": null,
            "grid_row": null,
            "grid_template_areas": null,
            "grid_template_columns": null,
            "grid_template_rows": null,
            "height": null,
            "justify_content": null,
            "justify_items": null,
            "left": null,
            "margin": null,
            "max_height": null,
            "max_width": null,
            "min_height": null,
            "min_width": null,
            "object_fit": null,
            "object_position": null,
            "order": null,
            "overflow": null,
            "overflow_x": null,
            "overflow_y": null,
            "padding": null,
            "right": null,
            "top": null,
            "visibility": null,
            "width": null
          }
        },
        "ff12aa4f5a514ab78ef4ad278aabb4a3": {
          "model_module": "@jupyter-widgets/base",
          "model_name": "LayoutModel",
          "model_module_version": "1.2.0",
          "state": {
            "_model_module": "@jupyter-widgets/base",
            "_model_module_version": "1.2.0",
            "_model_name": "LayoutModel",
            "_view_count": null,
            "_view_module": "@jupyter-widgets/base",
            "_view_module_version": "1.2.0",
            "_view_name": "LayoutView",
            "align_content": null,
            "align_items": null,
            "align_self": null,
            "border": null,
            "bottom": null,
            "display": null,
            "flex": null,
            "flex_flow": null,
            "grid_area": null,
            "grid_auto_columns": null,
            "grid_auto_flow": null,
            "grid_auto_rows": null,
            "grid_column": null,
            "grid_gap": null,
            "grid_row": null,
            "grid_template_areas": null,
            "grid_template_columns": null,
            "grid_template_rows": null,
            "height": null,
            "justify_content": null,
            "justify_items": null,
            "left": null,
            "margin": null,
            "max_height": null,
            "max_width": null,
            "min_height": null,
            "min_width": null,
            "object_fit": null,
            "object_position": null,
            "order": null,
            "overflow": null,
            "overflow_x": null,
            "overflow_y": null,
            "padding": null,
            "right": null,
            "top": null,
            "visibility": null,
            "width": null
          }
        },
        "8e2b79a92d0e48679601294d33393072": {
          "model_module": "@jupyter-widgets/controls",
          "model_name": "DescriptionStyleModel",
          "model_module_version": "1.5.0",
          "state": {
            "_model_module": "@jupyter-widgets/controls",
            "_model_module_version": "1.5.0",
            "_model_name": "DescriptionStyleModel",
            "_view_count": null,
            "_view_module": "@jupyter-widgets/base",
            "_view_module_version": "1.2.0",
            "_view_name": "StyleView",
            "description_width": ""
          }
        },
        "d11374e3e7214b51a86b4f74b0b171d5": {
          "model_module": "@jupyter-widgets/base",
          "model_name": "LayoutModel",
          "model_module_version": "1.2.0",
          "state": {
            "_model_module": "@jupyter-widgets/base",
            "_model_module_version": "1.2.0",
            "_model_name": "LayoutModel",
            "_view_count": null,
            "_view_module": "@jupyter-widgets/base",
            "_view_module_version": "1.2.0",
            "_view_name": "LayoutView",
            "align_content": null,
            "align_items": null,
            "align_self": null,
            "border": null,
            "bottom": null,
            "display": null,
            "flex": null,
            "flex_flow": null,
            "grid_area": null,
            "grid_auto_columns": null,
            "grid_auto_flow": null,
            "grid_auto_rows": null,
            "grid_column": null,
            "grid_gap": null,
            "grid_row": null,
            "grid_template_areas": null,
            "grid_template_columns": null,
            "grid_template_rows": null,
            "height": null,
            "justify_content": null,
            "justify_items": null,
            "left": null,
            "margin": null,
            "max_height": null,
            "max_width": null,
            "min_height": null,
            "min_width": null,
            "object_fit": null,
            "object_position": null,
            "order": null,
            "overflow": null,
            "overflow_x": null,
            "overflow_y": null,
            "padding": null,
            "right": null,
            "top": null,
            "visibility": null,
            "width": null
          }
        },
        "9a447adcd1364f4eb32383885b513382": {
          "model_module": "@jupyter-widgets/controls",
          "model_name": "ProgressStyleModel",
          "model_module_version": "1.5.0",
          "state": {
            "_model_module": "@jupyter-widgets/controls",
            "_model_module_version": "1.5.0",
            "_model_name": "ProgressStyleModel",
            "_view_count": null,
            "_view_module": "@jupyter-widgets/base",
            "_view_module_version": "1.2.0",
            "_view_name": "StyleView",
            "bar_color": null,
            "description_width": ""
          }
        },
        "aa720d81d9b045b1a5221c334b099536": {
          "model_module": "@jupyter-widgets/base",
          "model_name": "LayoutModel",
          "model_module_version": "1.2.0",
          "state": {
            "_model_module": "@jupyter-widgets/base",
            "_model_module_version": "1.2.0",
            "_model_name": "LayoutModel",
            "_view_count": null,
            "_view_module": "@jupyter-widgets/base",
            "_view_module_version": "1.2.0",
            "_view_name": "LayoutView",
            "align_content": null,
            "align_items": null,
            "align_self": null,
            "border": null,
            "bottom": null,
            "display": null,
            "flex": null,
            "flex_flow": null,
            "grid_area": null,
            "grid_auto_columns": null,
            "grid_auto_flow": null,
            "grid_auto_rows": null,
            "grid_column": null,
            "grid_gap": null,
            "grid_row": null,
            "grid_template_areas": null,
            "grid_template_columns": null,
            "grid_template_rows": null,
            "height": null,
            "justify_content": null,
            "justify_items": null,
            "left": null,
            "margin": null,
            "max_height": null,
            "max_width": null,
            "min_height": null,
            "min_width": null,
            "object_fit": null,
            "object_position": null,
            "order": null,
            "overflow": null,
            "overflow_x": null,
            "overflow_y": null,
            "padding": null,
            "right": null,
            "top": null,
            "visibility": null,
            "width": null
          }
        },
        "b9fa07ca92eb4142abf9aa68803f8f90": {
          "model_module": "@jupyter-widgets/controls",
          "model_name": "DescriptionStyleModel",
          "model_module_version": "1.5.0",
          "state": {
            "_model_module": "@jupyter-widgets/controls",
            "_model_module_version": "1.5.0",
            "_model_name": "DescriptionStyleModel",
            "_view_count": null,
            "_view_module": "@jupyter-widgets/base",
            "_view_module_version": "1.2.0",
            "_view_name": "StyleView",
            "description_width": ""
          }
        }
      }
    }
  },
  "cells": [
    {
      "cell_type": "code",
      "execution_count": null,
      "metadata": {
        "id": "t0zdZipheL0W",
        "colab": {
          "base_uri": "https://localhost:8080/"
        },
        "outputId": "b3f03b5c-4053-4f45-b69c-7cf9aa801092"
      },
      "outputs": [
        {
          "output_type": "stream",
          "name": "stdout",
          "text": [
            "Mounted at /content/drive\n"
          ]
        }
      ],
      "source": [
        "from google.colab import drive\n",
        "drive.mount('/content/drive')"
      ]
    },
    {
      "cell_type": "code",
      "source": [
        "!pip install -q roboflow\n",
        "\n",
        "from roboflow import Roboflow\n",
        "rf = Roboflow(api_key=\"P1tOolfxuLaCFYy4PyEb\")\n",
        "project = rf.workspace(\"naspadsupremasi\").project(\"citrus-disease-cjcbq\")\n",
        "version = project.version(7)\n",
        "dataset = version.download(\"coco-segmentation\")\n"
      ],
      "metadata": {
        "id": "K68qQ9zIevgD",
        "colab": {
          "base_uri": "https://localhost:8080/"
        },
        "outputId": "d9b7a92f-f076-4d5a-e7ad-fd24f7a31e98"
      },
      "execution_count": null,
      "outputs": [
        {
          "output_type": "stream",
          "name": "stdout",
          "text": [
            "\u001b[?25l   \u001b[90m━━━━━━━━━━━━━━━━━━━━━━━━━━━━━━━━━━━━━━━━\u001b[0m \u001b[32m0.0/86.7 kB\u001b[0m \u001b[31m?\u001b[0m eta \u001b[36m-:--:--\u001b[0m\r\u001b[2K   \u001b[90m━━━━━━━━━━━━━━━━━━━━━━━━━━━━━━━━━━━━━━━━\u001b[0m \u001b[32m86.7/86.7 kB\u001b[0m \u001b[31m5.9 MB/s\u001b[0m eta \u001b[36m0:00:00\u001b[0m\n",
            "\u001b[2K   \u001b[90m━━━━━━━━━━━━━━━━━━━━━━━━━━━━━━━━━━━━━━━━\u001b[0m \u001b[32m66.8/66.8 kB\u001b[0m \u001b[31m6.5 MB/s\u001b[0m eta \u001b[36m0:00:00\u001b[0m\n",
            "\u001b[2K   \u001b[90m━━━━━━━━━━━━━━━━━━━━━━━━━━━━━━━━━━━━━━━━\u001b[0m \u001b[32m49.9/49.9 MB\u001b[0m \u001b[31m16.7 MB/s\u001b[0m eta \u001b[36m0:00:00\u001b[0m\n",
            "\u001b[2K   \u001b[90m━━━━━━━━━━━━━━━━━━━━━━━━━━━━━━━━━━━━━━━━\u001b[0m \u001b[32m7.8/7.8 MB\u001b[0m \u001b[31m86.7 MB/s\u001b[0m eta \u001b[36m0:00:00\u001b[0m\n",
            "loading Roboflow workspace...\n",
            "loading Roboflow project...\n"
          ]
        },
        {
          "output_type": "stream",
          "name": "stderr",
          "text": [
            "Downloading Dataset Version Zip in citrus-disease-7 to coco-segmentation:: 100%|██████████| 96815/96815 [00:01<00:00, 65201.65it/s]"
          ]
        },
        {
          "output_type": "stream",
          "name": "stdout",
          "text": [
            "\n"
          ]
        },
        {
          "output_type": "stream",
          "name": "stderr",
          "text": [
            "\n",
            "Extracting Dataset Version Zip to citrus-disease-7 in coco-segmentation:: 100%|██████████| 2004/2004 [00:00<00:00, 3991.92it/s]\n"
          ]
        }
      ]
    },
    {
      "cell_type": "code",
      "source": [
        "!mkdir /content/citrus-disease-7/mask"
      ],
      "metadata": {
        "id": "J-_2rt0SeyQQ"
      },
      "execution_count": null,
      "outputs": []
    },
    {
      "cell_type": "code",
      "source": [
        "import json\n",
        "import numpy as np\n",
        "import cv2\n",
        "from pycocotools import mask as maskUtils\n",
        "from tqdm import tqdm\n",
        "import os\n",
        "\n",
        "coco_json_path = '/content/citrus-disease-7/train/_annotations.coco.json'\n",
        "img_dir = '/content/citrus-disease-7/train'\n",
        "mask_output_dir = '/content/citrus-disease-7/mask'\n",
        "\n",
        "\n",
        "with open(coco_json_path) as f:\n",
        "    coco = json.load(f)\n",
        "\n",
        "# Map image_id to file_name\n",
        "id_to_filename = {img['id']: img['file_name'] for img in coco['images']}\n",
        "\n",
        "# Group annotations by image_id\n",
        "from collections import defaultdict\n",
        "ann_dict = defaultdict(list)\n",
        "for ann in coco['annotations']:\n",
        "    ann_dict[ann['image_id']].append(ann)\n",
        "\n",
        "cat_id_to_class = {\n",
        "    0: 1,  # lesion\n",
        "    1: 2,  # fruit\n",
        "    2: 1   # lesion\n",
        "}\n",
        "\n",
        "class_priority = {\n",
        "    0: 2,  # lesion\n",
        "    1: 1,  # fruit\n",
        "    2: 2   # lesion\n",
        "}\n",
        "\n",
        "for img_id, anns in tqdm(ann_dict.items()):\n",
        "    img_info = next(item for item in coco['images'] if item['id'] == img_id)\n",
        "    height, width = img_info['height'], img_info['width']\n",
        "    mask = np.zeros((height, width), dtype=np.uint8)\n",
        "\n",
        "    # Sort anns by priority (fruit first, lesion last)\n",
        "    anns = sorted(anns, key=lambda x: class_priority.get(x['category_id'], 0))\n",
        "\n",
        "    for ann in anns:\n",
        "        segmentation = ann['segmentation']\n",
        "        category_id = ann['category_id']\n",
        "        class_id = cat_id_to_class.get(category_id, 0)\n",
        "\n",
        "        if isinstance(segmentation, list):\n",
        "            for seg in segmentation:\n",
        "                pts = np.array(seg).reshape(-1, 2).astype(np.int32)\n",
        "                if pts.shape[0] >= 3:\n",
        "                    cv2.fillPoly(mask, [pts], color=class_id)\n",
        "        else:\n",
        "            rle = maskUtils.frPyObjects(segmentation, height, width)\n",
        "            m = maskUtils.decode(rle)\n",
        "            mask[m > 0] = class_id\n",
        "\n",
        "    filename = id_to_filename[img_id].replace('.jpg', '.png')\n",
        "    cv2.imwrite(os.path.join(mask_output_dir, filename), mask * 100)\n",
        "\n"
      ],
      "metadata": {
        "colab": {
          "base_uri": "https://localhost:8080/"
        },
        "id": "5hulCgvHRyJe",
        "outputId": "a16e4cd1-8f63-406b-f0f6-edda09a09c9a"
      },
      "execution_count": null,
      "outputs": [
        {
          "output_type": "stream",
          "name": "stderr",
          "text": [
            "100%|██████████| 2000/2000 [00:11<00:00, 179.73it/s]\n"
          ]
        }
      ]
    },
    {
      "cell_type": "code",
      "source": [
        "import os\n",
        "\n",
        "folder_path = '/content/citrus-disease-7/mask'  # change to your folder path\n",
        "file_count = len([f for f in os.listdir(folder_path) if os.path.isfile(os.path.join(folder_path, f))])\n",
        "\n",
        "print(f\"Number of files: {file_count}\")\n"
      ],
      "metadata": {
        "colab": {
          "base_uri": "https://localhost:8080/"
        },
        "id": "vLxf3mLCY20I",
        "outputId": "d3669032-f8b7-446e-fe25-52581fa69f20"
      },
      "execution_count": null,
      "outputs": [
        {
          "output_type": "stream",
          "name": "stdout",
          "text": [
            "Number of files: 2000\n"
          ]
        }
      ]
    },
    {
      "cell_type": "code",
      "source": [
        "#delete json"
      ],
      "metadata": {
        "id": "ph2nDYbpck3f"
      },
      "execution_count": null,
      "outputs": []
    },
    {
      "cell_type": "code",
      "source": [
        "!rm -r /content/citrus-disease-7/train/_annotations.coco.json"
      ],
      "metadata": {
        "id": "vXq-9ewgZ_jJ"
      },
      "execution_count": null,
      "outputs": []
    },
    {
      "cell_type": "code",
      "source": [
        "import os\n",
        "from glob import glob\n",
        "from os.path import basename\n",
        "import cv2\n",
        "\n",
        "image_paths = sorted(glob('/content/citrus-disease-7/train/*.jpg'))\n",
        "\n",
        "# Build mask paths: use actual if exists, else create an empty placeholder later\n",
        "mask_dir = '/content/citrus-disease-7/mask'\n",
        "mask_paths = []\n",
        "\n",
        "for img_path in image_paths:\n",
        "    name = basename(img_path).replace('.jpg', '')\n",
        "    mask_path = os.path.join(mask_dir, f'{name}.png')`\n",
        "\n",
        "    if os.path.exists(mask_path):\n",
        "        mask_paths.append(mask_path)\n",
        "    else:\n",
        "        # Mark empty with a placeholder (we’ll generate in dataset class)\n",
        "        mask_paths.append(None)\n"
      ],
      "metadata": {
        "id": "uGQX5CpTfJ8n"
      },
      "execution_count": null,
      "outputs": []
    },
    {
      "cell_type": "code",
      "source": [
        "!pip install -q segmentation-models-pytorch albumentations"
      ],
      "metadata": {
        "id": "mFpi3mU9fM8E",
        "colab": {
          "base_uri": "https://localhost:8080/"
        },
        "outputId": "00cbca0f-390d-42ae-dd14-a225f88c4a2f"
      },
      "execution_count": null,
      "outputs": [
        {
          "output_type": "stream",
          "name": "stdout",
          "text": [
            "\u001b[2K   \u001b[90m━━━━━━━━━━━━━━━━━━━━━━━━━━━━━━━━━━━━━━━━\u001b[0m \u001b[32m154.8/154.8 kB\u001b[0m \u001b[31m7.5 MB/s\u001b[0m eta \u001b[36m0:00:00\u001b[0m\n",
            "\u001b[2K   \u001b[90m━━━━━━━━━━━━━━━━━━━━━━━━━━━━━━━━━━━━━━━━\u001b[0m \u001b[32m363.4/363.4 MB\u001b[0m \u001b[31m3.7 MB/s\u001b[0m eta \u001b[36m0:00:00\u001b[0m\n",
            "\u001b[2K   \u001b[90m━━━━━━━━━━━━━━━━━━━━━━━━━━━━━━━━━━━━━━━━\u001b[0m \u001b[32m13.8/13.8 MB\u001b[0m \u001b[31m53.0 MB/s\u001b[0m eta \u001b[36m0:00:00\u001b[0m\n",
            "\u001b[2K   \u001b[90m━━━━━━━━━━━━━━━━━━━━━━━━━━━━━━━━━━━━━━━━\u001b[0m \u001b[32m24.6/24.6 MB\u001b[0m \u001b[31m28.9 MB/s\u001b[0m eta \u001b[36m0:00:00\u001b[0m\n",
            "\u001b[2K   \u001b[90m━━━━━━━━━━━━━━━━━━━━━━━━━━━━━━━━━━━━━━━━\u001b[0m \u001b[32m883.7/883.7 kB\u001b[0m \u001b[31m35.9 MB/s\u001b[0m eta \u001b[36m0:00:00\u001b[0m\n",
            "\u001b[2K   \u001b[90m━━━━━━━━━━━━━━━━━━━━━━━━━━━━━━━━━━━━━━━━\u001b[0m \u001b[32m664.8/664.8 MB\u001b[0m \u001b[31m3.2 MB/s\u001b[0m eta \u001b[36m0:00:00\u001b[0m\n",
            "\u001b[2K   \u001b[90m━━━━━━━━━━━━━━━━━━━━━━━━━━━━━━━━━━━━━━━━\u001b[0m \u001b[32m211.5/211.5 MB\u001b[0m \u001b[31m5.2 MB/s\u001b[0m eta \u001b[36m0:00:00\u001b[0m\n",
            "\u001b[2K   \u001b[90m━━━━━━━━━━━━━━━━━━━━━━━━━━━━━━━━━━━━━━━━\u001b[0m \u001b[32m56.3/56.3 MB\u001b[0m \u001b[31m12.4 MB/s\u001b[0m eta \u001b[36m0:00:00\u001b[0m\n",
            "\u001b[2K   \u001b[90m━━━━━━━━━━━━━━━━━━━━━━━━━━━━━━━━━━━━━━━━\u001b[0m \u001b[32m127.9/127.9 MB\u001b[0m \u001b[31m7.9 MB/s\u001b[0m eta \u001b[36m0:00:00\u001b[0m\n",
            "\u001b[2K   \u001b[90m━━━━━━━━━━━━━━━━━━━━━━━━━━━━━━━━━━━━━━━━\u001b[0m \u001b[32m207.5/207.5 MB\u001b[0m \u001b[31m5.7 MB/s\u001b[0m eta \u001b[36m0:00:00\u001b[0m\n",
            "\u001b[2K   \u001b[90m━━━━━━━━━━━━━━━━━━━━━━━━━━━━━━━━━━━━━━━━\u001b[0m \u001b[32m21.1/21.1 MB\u001b[0m \u001b[31m43.2 MB/s\u001b[0m eta \u001b[36m0:00:00\u001b[0m\n",
            "\u001b[?25h"
          ]
        }
      ]
    },
    {
      "cell_type": "code",
      "source": [
        "import os\n",
        "import torch\n",
        "import numpy as np\n",
        "import torch.nn as nn\n",
        "from torch.utils.data import DataLoader, Dataset\n",
        "from torchvision import transforms\n",
        "from PIL import Image\n",
        "import segmentation_models_pytorch as smp\n",
        "import albumentations as A\n",
        "from albumentations.pytorch import ToTensorV2\n"
      ],
      "metadata": {
        "id": "zadYp3lAfOw4"
      },
      "execution_count": null,
      "outputs": []
    },
    {
      "cell_type": "code",
      "source": [
        "class SegmentationDataset(Dataset):\n",
        "    def __init__(self, images_dir, masks_dir, transform=None):\n",
        "        self.images_dir = images_dir\n",
        "        self.masks_dir = masks_dir\n",
        "        self.transform = transform\n",
        "        self.images = sorted(os.listdir(images_dir))\n",
        "        self.masks = sorted(os.listdir(masks_dir))\n",
        "\n",
        "    def __len__(self):\n",
        "        return len(self.images)\n",
        "\n",
        "    def __getitem__(self, idx):\n",
        "        image = np.array(Image.open(os.path.join(self.images_dir, self.images[idx])).convert(\"RGB\"))\n",
        "        mask = np.array(Image.open(os.path.join(self.masks_dir, self.masks[idx])))\n",
        "\n",
        "        # Map unique pixel values to class indices\n",
        "        mask = np.where(mask == 100, 1, mask)\n",
        "        mask = np.where(mask == 200, 2, mask)\n",
        "\n",
        "        if self.transform:\n",
        "            augmented = self.transform(image=image, mask=mask)\n",
        "            image = augmented['image']\n",
        "            mask = augmented['mask'].long()\n",
        "\n",
        "        return image, mask\n"
      ],
      "metadata": {
        "id": "DV2Oo6X7fQbq"
      },
      "execution_count": null,
      "outputs": []
    },
    {
      "cell_type": "code",
      "source": [
        "train_transform = A.Compose([\n",
        "    A.Resize(256, 256),\n",
        "    A.Normalize(mean=(0.485, 0.456, 0.406),\n",
        "                std=(0.229, 0.224, 0.225)),\n",
        "    ToTensorV2(),\n",
        "])\n",
        "from torch.utils.data import random_split\n",
        "\n",
        "# Full dataset\n",
        "full_dataset = SegmentationDataset(\n",
        "    images_dir='/content/citrus-disease-7/train',\n",
        "    masks_dir='/content/citrus-disease-7/mask',\n",
        "    transform=train_transform\n",
        ")\n",
        "\n",
        "# Split sizes\n",
        "val_percent = 0.2\n",
        "val_size = int(val_percent * len(full_dataset))\n",
        "train_size = len(full_dataset) - val_size\n",
        "\n",
        "train_dataset, val_dataset = random_split(full_dataset, [train_size, val_size])\n"
      ],
      "metadata": {
        "id": "FOI4k4A6fUN1"
      },
      "execution_count": null,
      "outputs": []
    },
    {
      "cell_type": "code",
      "source": [
        "model = smp.Unet(\n",
        "    encoder_name=\"vgg16_bn\",\n",
        "    encoder_weights=\"imagenet\",\n",
        "    in_channels=3,\n",
        "    classes=3,  # 3 classes (0, 1, 2)\n",
        ")\n",
        "loss_fn = nn.CrossEntropyLoss()\n",
        "optimizer = torch.optim.Adam(model.parameters(), lr=1e-4)\n",
        "device = torch.device(\"cuda\" if torch.cuda.is_available() else \"cpu\")\n",
        "model.to(device)\n"
      ],
      "metadata": {
        "id": "zrWywm_VKqb5",
        "colab": {
          "base_uri": "https://localhost:8080/",
          "height": 1000,
          "referenced_widgets": [
            "c8235e0eb0384b63a0351539a94195d4",
            "0a514cf7a01b4b7e866b7330ef6c3d79",
            "1fb9e3ea214e4b77a1cb6d0a0e4f3579",
            "8c016c7ce5004804bb7e2a70f4cbe984",
            "3be2686a12374e68a479cd02f409665d",
            "c8ba2cd01f514f10ae5615ee929aad9d",
            "0eb9c4766a0d4d1ea01660a8f6f5f88b",
            "2452f51c3dd44307bfd71d2839d2842f",
            "9592b4a65b9e4439a05acf471e319743",
            "bbc449b05c0a4e098c44613c35b15f80",
            "18e0febf0d2149aab5627f28c3e97121",
            "0eb99ad35e5a47c89af29a95a9973e0a",
            "4c0fe28610fd45859b421cdfa89b7328",
            "32230a192ca34998aab255780e04a399",
            "4791fa69d9bf4e9c90074018e331ffdb",
            "1367d1a59d92420086dfc6a3eb0d872b",
            "ff12aa4f5a514ab78ef4ad278aabb4a3",
            "8e2b79a92d0e48679601294d33393072",
            "d11374e3e7214b51a86b4f74b0b171d5",
            "9a447adcd1364f4eb32383885b513382",
            "aa720d81d9b045b1a5221c334b099536",
            "b9fa07ca92eb4142abf9aa68803f8f90"
          ]
        },
        "outputId": "0967908c-4532-403b-a39f-5f23e7472f2f"
      },
      "execution_count": null,
      "outputs": [
        {
          "output_type": "stream",
          "name": "stderr",
          "text": [
            "\n",
            "The secret `HF_TOKEN` does not exist in your Colab secrets.\n",
            "To authenticate with the Hugging Face Hub, create a token in your settings tab (https://huggingface.co/settings/tokens), set it as secret in your Google Colab and restart your session.\n",
            "You will be able to reuse this secret in all of your notebooks.\n",
            "Please note that authentication is recommended but still optional to access public models or datasets.\n"
          ]
        },
        {
          "output_type": "display_data",
          "data": {
            "text/plain": [
              "config.json:   0%|          | 0.00/156 [00:00<?, ?B/s]"
            ],
            "application/vnd.jupyter.widget-view+json": {
              "version_major": 2,
              "version_minor": 0,
              "model_id": "c8235e0eb0384b63a0351539a94195d4"
            }
          },
          "metadata": {}
        },
        {
          "output_type": "display_data",
          "data": {
            "text/plain": [
              "model.safetensors:   0%|          | 0.00/554M [00:00<?, ?B/s]"
            ],
            "application/vnd.jupyter.widget-view+json": {
              "version_major": 2,
              "version_minor": 0,
              "model_id": "0eb99ad35e5a47c89af29a95a9973e0a"
            }
          },
          "metadata": {}
        },
        {
          "output_type": "execute_result",
          "data": {
            "text/plain": [
              "Unet(\n",
              "  (encoder): VGGEncoder(\n",
              "    (features): Sequential(\n",
              "      (0): Conv2d(3, 64, kernel_size=(3, 3), stride=(1, 1), padding=(1, 1))\n",
              "      (1): BatchNorm2d(64, eps=1e-05, momentum=0.1, affine=True, track_running_stats=True)\n",
              "      (2): ReLU(inplace=True)\n",
              "      (3): Conv2d(64, 64, kernel_size=(3, 3), stride=(1, 1), padding=(1, 1))\n",
              "      (4): BatchNorm2d(64, eps=1e-05, momentum=0.1, affine=True, track_running_stats=True)\n",
              "      (5): ReLU(inplace=True)\n",
              "      (6): MaxPool2d(kernel_size=2, stride=2, padding=0, dilation=1, ceil_mode=False)\n",
              "      (7): Conv2d(64, 128, kernel_size=(3, 3), stride=(1, 1), padding=(1, 1))\n",
              "      (8): BatchNorm2d(128, eps=1e-05, momentum=0.1, affine=True, track_running_stats=True)\n",
              "      (9): ReLU(inplace=True)\n",
              "      (10): Conv2d(128, 128, kernel_size=(3, 3), stride=(1, 1), padding=(1, 1))\n",
              "      (11): BatchNorm2d(128, eps=1e-05, momentum=0.1, affine=True, track_running_stats=True)\n",
              "      (12): ReLU(inplace=True)\n",
              "      (13): MaxPool2d(kernel_size=2, stride=2, padding=0, dilation=1, ceil_mode=False)\n",
              "      (14): Conv2d(128, 256, kernel_size=(3, 3), stride=(1, 1), padding=(1, 1))\n",
              "      (15): BatchNorm2d(256, eps=1e-05, momentum=0.1, affine=True, track_running_stats=True)\n",
              "      (16): ReLU(inplace=True)\n",
              "      (17): Conv2d(256, 256, kernel_size=(3, 3), stride=(1, 1), padding=(1, 1))\n",
              "      (18): BatchNorm2d(256, eps=1e-05, momentum=0.1, affine=True, track_running_stats=True)\n",
              "      (19): ReLU(inplace=True)\n",
              "      (20): Conv2d(256, 256, kernel_size=(3, 3), stride=(1, 1), padding=(1, 1))\n",
              "      (21): BatchNorm2d(256, eps=1e-05, momentum=0.1, affine=True, track_running_stats=True)\n",
              "      (22): ReLU(inplace=True)\n",
              "      (23): MaxPool2d(kernel_size=2, stride=2, padding=0, dilation=1, ceil_mode=False)\n",
              "      (24): Conv2d(256, 512, kernel_size=(3, 3), stride=(1, 1), padding=(1, 1))\n",
              "      (25): BatchNorm2d(512, eps=1e-05, momentum=0.1, affine=True, track_running_stats=True)\n",
              "      (26): ReLU(inplace=True)\n",
              "      (27): Conv2d(512, 512, kernel_size=(3, 3), stride=(1, 1), padding=(1, 1))\n",
              "      (28): BatchNorm2d(512, eps=1e-05, momentum=0.1, affine=True, track_running_stats=True)\n",
              "      (29): ReLU(inplace=True)\n",
              "      (30): Conv2d(512, 512, kernel_size=(3, 3), stride=(1, 1), padding=(1, 1))\n",
              "      (31): BatchNorm2d(512, eps=1e-05, momentum=0.1, affine=True, track_running_stats=True)\n",
              "      (32): ReLU(inplace=True)\n",
              "      (33): MaxPool2d(kernel_size=2, stride=2, padding=0, dilation=1, ceil_mode=False)\n",
              "      (34): Conv2d(512, 512, kernel_size=(3, 3), stride=(1, 1), padding=(1, 1))\n",
              "      (35): BatchNorm2d(512, eps=1e-05, momentum=0.1, affine=True, track_running_stats=True)\n",
              "      (36): ReLU(inplace=True)\n",
              "      (37): Conv2d(512, 512, kernel_size=(3, 3), stride=(1, 1), padding=(1, 1))\n",
              "      (38): BatchNorm2d(512, eps=1e-05, momentum=0.1, affine=True, track_running_stats=True)\n",
              "      (39): ReLU(inplace=True)\n",
              "      (40): Conv2d(512, 512, kernel_size=(3, 3), stride=(1, 1), padding=(1, 1))\n",
              "      (41): BatchNorm2d(512, eps=1e-05, momentum=0.1, affine=True, track_running_stats=True)\n",
              "      (42): ReLU(inplace=True)\n",
              "      (43): MaxPool2d(kernel_size=2, stride=2, padding=0, dilation=1, ceil_mode=False)\n",
              "    )\n",
              "    (avgpool): AdaptiveAvgPool2d(output_size=(7, 7))\n",
              "  )\n",
              "  (decoder): UnetDecoder(\n",
              "    (center): UnetCenterBlock(\n",
              "      (0): Conv2dReLU(\n",
              "        (0): Conv2d(512, 512, kernel_size=(3, 3), stride=(1, 1), padding=(1, 1), bias=False)\n",
              "        (1): BatchNorm2d(512, eps=1e-05, momentum=0.1, affine=True, track_running_stats=True)\n",
              "        (2): ReLU(inplace=True)\n",
              "      )\n",
              "      (1): Conv2dReLU(\n",
              "        (0): Conv2d(512, 512, kernel_size=(3, 3), stride=(1, 1), padding=(1, 1), bias=False)\n",
              "        (1): BatchNorm2d(512, eps=1e-05, momentum=0.1, affine=True, track_running_stats=True)\n",
              "        (2): ReLU(inplace=True)\n",
              "      )\n",
              "    )\n",
              "    (blocks): ModuleList(\n",
              "      (0): UnetDecoderBlock(\n",
              "        (conv1): Conv2dReLU(\n",
              "          (0): Conv2d(1024, 256, kernel_size=(3, 3), stride=(1, 1), padding=(1, 1), bias=False)\n",
              "          (1): BatchNorm2d(256, eps=1e-05, momentum=0.1, affine=True, track_running_stats=True)\n",
              "          (2): ReLU(inplace=True)\n",
              "        )\n",
              "        (attention1): Attention(\n",
              "          (attention): Identity()\n",
              "        )\n",
              "        (conv2): Conv2dReLU(\n",
              "          (0): Conv2d(256, 256, kernel_size=(3, 3), stride=(1, 1), padding=(1, 1), bias=False)\n",
              "          (1): BatchNorm2d(256, eps=1e-05, momentum=0.1, affine=True, track_running_stats=True)\n",
              "          (2): ReLU(inplace=True)\n",
              "        )\n",
              "        (attention2): Attention(\n",
              "          (attention): Identity()\n",
              "        )\n",
              "      )\n",
              "      (1): UnetDecoderBlock(\n",
              "        (conv1): Conv2dReLU(\n",
              "          (0): Conv2d(768, 128, kernel_size=(3, 3), stride=(1, 1), padding=(1, 1), bias=False)\n",
              "          (1): BatchNorm2d(128, eps=1e-05, momentum=0.1, affine=True, track_running_stats=True)\n",
              "          (2): ReLU(inplace=True)\n",
              "        )\n",
              "        (attention1): Attention(\n",
              "          (attention): Identity()\n",
              "        )\n",
              "        (conv2): Conv2dReLU(\n",
              "          (0): Conv2d(128, 128, kernel_size=(3, 3), stride=(1, 1), padding=(1, 1), bias=False)\n",
              "          (1): BatchNorm2d(128, eps=1e-05, momentum=0.1, affine=True, track_running_stats=True)\n",
              "          (2): ReLU(inplace=True)\n",
              "        )\n",
              "        (attention2): Attention(\n",
              "          (attention): Identity()\n",
              "        )\n",
              "      )\n",
              "      (2): UnetDecoderBlock(\n",
              "        (conv1): Conv2dReLU(\n",
              "          (0): Conv2d(384, 64, kernel_size=(3, 3), stride=(1, 1), padding=(1, 1), bias=False)\n",
              "          (1): BatchNorm2d(64, eps=1e-05, momentum=0.1, affine=True, track_running_stats=True)\n",
              "          (2): ReLU(inplace=True)\n",
              "        )\n",
              "        (attention1): Attention(\n",
              "          (attention): Identity()\n",
              "        )\n",
              "        (conv2): Conv2dReLU(\n",
              "          (0): Conv2d(64, 64, kernel_size=(3, 3), stride=(1, 1), padding=(1, 1), bias=False)\n",
              "          (1): BatchNorm2d(64, eps=1e-05, momentum=0.1, affine=True, track_running_stats=True)\n",
              "          (2): ReLU(inplace=True)\n",
              "        )\n",
              "        (attention2): Attention(\n",
              "          (attention): Identity()\n",
              "        )\n",
              "      )\n",
              "      (3): UnetDecoderBlock(\n",
              "        (conv1): Conv2dReLU(\n",
              "          (0): Conv2d(192, 32, kernel_size=(3, 3), stride=(1, 1), padding=(1, 1), bias=False)\n",
              "          (1): BatchNorm2d(32, eps=1e-05, momentum=0.1, affine=True, track_running_stats=True)\n",
              "          (2): ReLU(inplace=True)\n",
              "        )\n",
              "        (attention1): Attention(\n",
              "          (attention): Identity()\n",
              "        )\n",
              "        (conv2): Conv2dReLU(\n",
              "          (0): Conv2d(32, 32, kernel_size=(3, 3), stride=(1, 1), padding=(1, 1), bias=False)\n",
              "          (1): BatchNorm2d(32, eps=1e-05, momentum=0.1, affine=True, track_running_stats=True)\n",
              "          (2): ReLU(inplace=True)\n",
              "        )\n",
              "        (attention2): Attention(\n",
              "          (attention): Identity()\n",
              "        )\n",
              "      )\n",
              "      (4): UnetDecoderBlock(\n",
              "        (conv1): Conv2dReLU(\n",
              "          (0): Conv2d(32, 16, kernel_size=(3, 3), stride=(1, 1), padding=(1, 1), bias=False)\n",
              "          (1): BatchNorm2d(16, eps=1e-05, momentum=0.1, affine=True, track_running_stats=True)\n",
              "          (2): ReLU(inplace=True)\n",
              "        )\n",
              "        (attention1): Attention(\n",
              "          (attention): Identity()\n",
              "        )\n",
              "        (conv2): Conv2dReLU(\n",
              "          (0): Conv2d(16, 16, kernel_size=(3, 3), stride=(1, 1), padding=(1, 1), bias=False)\n",
              "          (1): BatchNorm2d(16, eps=1e-05, momentum=0.1, affine=True, track_running_stats=True)\n",
              "          (2): ReLU(inplace=True)\n",
              "        )\n",
              "        (attention2): Attention(\n",
              "          (attention): Identity()\n",
              "        )\n",
              "      )\n",
              "    )\n",
              "  )\n",
              "  (segmentation_head): SegmentationHead(\n",
              "    (0): Conv2d(16, 3, kernel_size=(3, 3), stride=(1, 1), padding=(1, 1))\n",
              "    (1): Identity()\n",
              "    (2): Activation(\n",
              "      (activation): Identity()\n",
              "    )\n",
              "  )\n",
              ")"
            ]
          },
          "metadata": {},
          "execution_count": 11
        }
      ]
    },
    {
      "cell_type": "code",
      "source": [
        "train_loader = DataLoader(train_dataset, batch_size=8, shuffle=True, num_workers=2)\n",
        "val_loader   = DataLoader(val_dataset, batch_size=8, shuffle=False, num_workers=2)\n"
      ],
      "metadata": {
        "id": "EVYCe4OjKO1R"
      },
      "execution_count": null,
      "outputs": []
    },
    {
      "cell_type": "code",
      "source": [
        "def compute_iou(preds, labels, num_classes):\n",
        "    ious = []\n",
        "    preds = preds.view(-1)\n",
        "    labels = labels.view(-1)\n",
        "\n",
        "    for cls in range(num_classes):\n",
        "        pred_inds = preds == cls\n",
        "        label_inds = labels == cls\n",
        "        intersection = (pred_inds & label_inds).sum().item()\n",
        "        union = (pred_inds | label_inds).sum().item()\n",
        "        if union == 0:\n",
        "            ious.append(float('nan'))  # Ignore class if not present\n",
        "        else:\n",
        "            ious.append(intersection / union)\n",
        "\n",
        "    return ious\n",
        "def evaluate_iou(model, dataloader, num_classes, device):\n",
        "    model.eval()\n",
        "    iou_list = []\n",
        "\n",
        "    with torch.no_grad():\n",
        "        for images, masks in dataloader:\n",
        "            images = images.to(device)\n",
        "            masks = masks.to(device)\n",
        "            outputs = model(images)\n",
        "            preds = torch.argmax(outputs, dim=1)\n",
        "            ious = compute_iou(preds, masks, num_classes)\n",
        "            iou_list.append(ious)\n",
        "\n",
        "    # Average over all batches\n",
        "    iou_array = np.array(iou_list)\n",
        "    mean_iou = np.nanmean(iou_array, axis=0)  # per-class IoU\n",
        "    miou = np.nanmean(mean_iou)              # mean IoU across classes\n",
        "    return mean_iou, miou\n"
      ],
      "metadata": {
        "id": "22kRGYDKJMzl"
      },
      "execution_count": null,
      "outputs": []
    },
    {
      "cell_type": "code",
      "source": [
        "\n",
        "for epoch in range(25):\n",
        "    model.train()\n",
        "    total_loss = 0\n",
        "    for images, masks in train_loader:\n",
        "        images = images.to(device)\n",
        "        masks = masks.to(device)\n",
        "        optimizer.zero_grad()\n",
        "        outputs = model(images)\n",
        "        loss = loss_fn(outputs, masks)\n",
        "        loss.backward()\n",
        "        optimizer.step()\n",
        "        total_loss += loss.item()\n",
        "\n",
        "    model.eval()\n",
        "    val_loss = 0\n",
        "    with torch.no_grad():\n",
        "        for images, masks in val_loader:\n",
        "            images = images.to(device)\n",
        "            masks = masks.to(device)\n",
        "            outputs = model(images)\n",
        "            loss = loss_fn(outputs, masks)\n",
        "            val_loss += loss.item()\n",
        "\n",
        "    mean_iou, miou = evaluate_iou(model, val_loader, num_classes=3, device=device)\n",
        "    print(f\"Epoch {epoch+1}: Val Loss = {val_loss / len(val_loader):.4f}, mIoU = {miou:.4f}, Class IoUs = {mean_iou}\")\n"
      ],
      "metadata": {
        "id": "sQzexAdOfVsT",
        "colab": {
          "base_uri": "https://localhost:8080/"
        },
        "outputId": "3901ceac-43f7-4bde-add5-c37618fffb9f"
      },
      "execution_count": null,
      "outputs": [
        {
          "output_type": "stream",
          "name": "stdout",
          "text": [
            "Epoch 1: Val Loss = 0.5059, mIoU = 0.6708, Class IoUs = [0.96073165 0.17199674 0.87963269]\n",
            "Epoch 2: Val Loss = 0.2404, mIoU = 0.7917, Class IoUs = [0.98218001 0.43212191 0.96093662]\n",
            "Epoch 3: Val Loss = 0.1147, mIoU = 0.8187, Class IoUs = [0.98403956 0.50647311 0.96558464]\n",
            "Epoch 4: Val Loss = 0.0739, mIoU = 0.8646, Class IoUs = [0.9872259  0.63212496 0.97432806]\n",
            "Epoch 5: Val Loss = 0.0520, mIoU = 0.9048, Class IoUs = [0.98806015 0.74613982 0.98023589]\n",
            "Epoch 6: Val Loss = 0.0483, mIoU = 0.8990, Class IoUs = [0.98794636 0.7303572  0.97869258]\n",
            "Epoch 7: Val Loss = 0.0453, mIoU = 0.8968, Class IoUs = [0.98789616 0.72573359 0.97664895]\n",
            "Epoch 8: Val Loss = 0.0467, mIoU = 0.8973, Class IoUs = [0.98398003 0.73250651 0.97553818]\n",
            "Epoch 9: Val Loss = 0.0369, mIoU = 0.9127, Class IoUs = [0.98874945 0.76948062 0.97993303]\n",
            "Epoch 10: Val Loss = 0.0320, mIoU = 0.9220, Class IoUs = [0.98903418 0.79454179 0.98255883]\n",
            "Epoch 11: Val Loss = 0.0285, mIoU = 0.9235, Class IoUs = [0.98925998 0.79716571 0.98406735]\n",
            "Epoch 12: Val Loss = 0.0276, mIoU = 0.9264, Class IoUs = [0.98926203 0.80555167 0.98436393]\n",
            "Epoch 13: Val Loss = 0.0267, mIoU = 0.9256, Class IoUs = [0.98946326 0.80292253 0.98440225]\n",
            "Epoch 14: Val Loss = 0.0259, mIoU = 0.9314, Class IoUs = [0.989654   0.81913502 0.9854139 ]\n",
            "Epoch 15: Val Loss = 0.0260, mIoU = 0.9292, Class IoUs = [0.98975457 0.81312996 0.98475805]\n",
            "Epoch 16: Val Loss = 0.0343, mIoU = 0.9125, Class IoUs = [0.98903202 0.76714674 0.98142142]\n",
            "Epoch 17: Val Loss = 0.0305, mIoU = 0.9181, Class IoUs = [0.98728599 0.78519536 0.98196576]\n",
            "Epoch 18: Val Loss = 0.0298, mIoU = 0.9223, Class IoUs = [0.98804719 0.79760778 0.98138527]\n",
            "Epoch 19: Val Loss = 0.0246, mIoU = 0.9291, Class IoUs = [0.98951881 0.81330968 0.98455878]\n",
            "Epoch 20: Val Loss = 0.0242, mIoU = 0.9328, Class IoUs = [0.98885068 0.82459461 0.98491959]\n",
            "Epoch 21: Val Loss = 0.0260, mIoU = 0.9301, Class IoUs = [0.9890003  0.81715178 0.98407399]\n",
            "Epoch 22: Val Loss = 0.0243, mIoU = 0.9316, Class IoUs = [0.98959738 0.82054723 0.98475337]\n",
            "Epoch 23: Val Loss = 0.0266, mIoU = 0.9299, Class IoUs = [0.98923031 0.81637695 0.98403249]\n",
            "Epoch 24: Val Loss = 0.0235, mIoU = 0.9349, Class IoUs = [0.98967894 0.82941271 0.98554838]\n",
            "Epoch 25: Val Loss = 0.0240, mIoU = 0.9332, Class IoUs = [0.98980221 0.82431632 0.98547275]\n"
          ]
        }
      ]
    },
    {
      "cell_type": "code",
      "source": [
        "torch.save(model.state_dict(), 'unet_model_baru.pth')"
      ],
      "metadata": {
        "id": "Z1IjEyv8Q3GX"
      },
      "execution_count": null,
      "outputs": []
    },
    {
      "cell_type": "code",
      "source": [
        "!pip install torchinfo -q\n",
        "from torchinfo import summary\n",
        "\n",
        "summary(model, input_size=(1, 3, 256, 256))  # batch size 1\n"
      ],
      "metadata": {
        "colab": {
          "base_uri": "https://localhost:8080/"
        },
        "id": "0a1Wy7qvTwel",
        "outputId": "1020c09f-f97c-4ebb-ee65-ffc9a34823a2"
      },
      "execution_count": null,
      "outputs": [
        {
          "output_type": "execute_result",
          "data": {
            "text/plain": [
              "===============================================================================================\n",
              "Layer (type:depth-idx)                        Output Shape              Param #\n",
              "===============================================================================================\n",
              "Unet                                          [1, 3, 256, 256]          --\n",
              "├─VGGEncoder: 1-1                             [1, 64, 256, 256]         --\n",
              "│    └─Sequential: 2-1                        --                        --\n",
              "│    │    └─Conv2d: 3-1                       [1, 64, 256, 256]         1,792\n",
              "│    │    └─BatchNorm2d: 3-2                  [1, 64, 256, 256]         128\n",
              "│    │    └─ReLU: 3-3                         [1, 64, 256, 256]         --\n",
              "│    │    └─Conv2d: 3-4                       [1, 64, 256, 256]         36,928\n",
              "│    │    └─BatchNorm2d: 3-5                  [1, 64, 256, 256]         128\n",
              "│    │    └─ReLU: 3-6                         [1, 64, 256, 256]         --\n",
              "│    │    └─MaxPool2d: 3-7                    [1, 64, 128, 128]         --\n",
              "│    │    └─Conv2d: 3-8                       [1, 128, 128, 128]        73,856\n",
              "│    │    └─BatchNorm2d: 3-9                  [1, 128, 128, 128]        256\n",
              "│    │    └─ReLU: 3-10                        [1, 128, 128, 128]        --\n",
              "│    │    └─Conv2d: 3-11                      [1, 128, 128, 128]        147,584\n",
              "│    │    └─BatchNorm2d: 3-12                 [1, 128, 128, 128]        256\n",
              "│    │    └─ReLU: 3-13                        [1, 128, 128, 128]        --\n",
              "│    │    └─MaxPool2d: 3-14                   [1, 128, 64, 64]          --\n",
              "│    │    └─Conv2d: 3-15                      [1, 256, 64, 64]          295,168\n",
              "│    │    └─BatchNorm2d: 3-16                 [1, 256, 64, 64]          512\n",
              "│    │    └─ReLU: 3-17                        [1, 256, 64, 64]          --\n",
              "│    │    └─Conv2d: 3-18                      [1, 256, 64, 64]          590,080\n",
              "│    │    └─BatchNorm2d: 3-19                 [1, 256, 64, 64]          512\n",
              "│    │    └─ReLU: 3-20                        [1, 256, 64, 64]          --\n",
              "│    │    └─Conv2d: 3-21                      [1, 256, 64, 64]          590,080\n",
              "│    │    └─BatchNorm2d: 3-22                 [1, 256, 64, 64]          512\n",
              "│    │    └─ReLU: 3-23                        [1, 256, 64, 64]          --\n",
              "│    │    └─MaxPool2d: 3-24                   [1, 256, 32, 32]          --\n",
              "│    │    └─Conv2d: 3-25                      [1, 512, 32, 32]          1,180,160\n",
              "│    │    └─BatchNorm2d: 3-26                 [1, 512, 32, 32]          1,024\n",
              "│    │    └─ReLU: 3-27                        [1, 512, 32, 32]          --\n",
              "│    │    └─Conv2d: 3-28                      [1, 512, 32, 32]          2,359,808\n",
              "│    │    └─BatchNorm2d: 3-29                 [1, 512, 32, 32]          1,024\n",
              "│    │    └─ReLU: 3-30                        [1, 512, 32, 32]          --\n",
              "│    │    └─Conv2d: 3-31                      [1, 512, 32, 32]          2,359,808\n",
              "│    │    └─BatchNorm2d: 3-32                 [1, 512, 32, 32]          1,024\n",
              "│    │    └─ReLU: 3-33                        [1, 512, 32, 32]          --\n",
              "│    │    └─MaxPool2d: 3-34                   [1, 512, 16, 16]          --\n",
              "│    │    └─Conv2d: 3-35                      [1, 512, 16, 16]          2,359,808\n",
              "│    │    └─BatchNorm2d: 3-36                 [1, 512, 16, 16]          1,024\n",
              "│    │    └─ReLU: 3-37                        [1, 512, 16, 16]          --\n",
              "│    │    └─Conv2d: 3-38                      [1, 512, 16, 16]          2,359,808\n",
              "│    │    └─BatchNorm2d: 3-39                 [1, 512, 16, 16]          1,024\n",
              "│    │    └─ReLU: 3-40                        [1, 512, 16, 16]          --\n",
              "│    │    └─Conv2d: 3-41                      [1, 512, 16, 16]          2,359,808\n",
              "│    │    └─BatchNorm2d: 3-42                 [1, 512, 16, 16]          1,024\n",
              "│    │    └─ReLU: 3-43                        [1, 512, 16, 16]          --\n",
              "│    │    └─MaxPool2d: 3-44                   [1, 512, 8, 8]            --\n",
              "├─UnetDecoder: 1-2                            [1, 16, 256, 256]         --\n",
              "│    └─UnetCenterBlock: 2-2                   [1, 512, 8, 8]            --\n",
              "│    │    └─Conv2dReLU: 3-45                  [1, 512, 8, 8]            2,360,320\n",
              "│    │    └─Conv2dReLU: 3-46                  [1, 512, 8, 8]            2,360,320\n",
              "│    └─ModuleList: 2-3                        --                        --\n",
              "│    │    └─UnetDecoderBlock: 3-47            [1, 256, 16, 16]          2,950,144\n",
              "│    │    └─UnetDecoderBlock: 3-48            [1, 128, 32, 32]          1,032,704\n",
              "│    │    └─UnetDecoderBlock: 3-49            [1, 64, 64, 64]           258,304\n",
              "│    │    └─UnetDecoderBlock: 3-50            [1, 32, 128, 128]         64,640\n",
              "│    │    └─UnetDecoderBlock: 3-51            [1, 16, 256, 256]         6,976\n",
              "├─SegmentationHead: 1-3                       [1, 3, 256, 256]          --\n",
              "│    └─Conv2d: 2-4                            [1, 3, 256, 256]          435\n",
              "│    └─Identity: 2-5                          [1, 3, 256, 256]          --\n",
              "│    └─Activation: 2-6                        [1, 3, 256, 256]          --\n",
              "│    │    └─Identity: 3-52                    [1, 3, 256, 256]          --\n",
              "===============================================================================================\n",
              "Total params: 23,756,979\n",
              "Trainable params: 23,756,979\n",
              "Non-trainable params: 0\n",
              "Total mult-adds (Units.GIGABYTES): 24.77\n",
              "===============================================================================================\n",
              "Input size (MB): 0.79\n",
              "Forward/backward pass size (MB): 350.75\n",
              "Params size (MB): 95.03\n",
              "Estimated Total Size (MB): 446.56\n",
              "==============================================================================================="
            ]
          },
          "metadata": {},
          "execution_count": 26
        }
      ]
    }
  ]
}